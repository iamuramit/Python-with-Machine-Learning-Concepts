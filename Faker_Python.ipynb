{
 "cells": [
  {
   "cell_type": "code",
   "execution_count": 1,
   "id": "efa47912",
   "metadata": {
    "scrolled": true
   },
   "outputs": [
    {
     "name": "stdout",
     "output_type": "stream",
     "text": [
      "Collecting Faker\n",
      "  Downloading Faker-14.2.0-py3-none-any.whl (1.6 MB)\n",
      "Requirement already satisfied: python-dateutil>=2.4 in c:\\users\\hp\\anaconda3\\lib\\site-packages (from Faker) (2.8.2)\n",
      "Requirement already satisfied: six>=1.5 in c:\\users\\hp\\anaconda3\\lib\\site-packages (from python-dateutil>=2.4->Faker) (1.16.0)\n",
      "Installing collected packages: Faker\n",
      "Successfully installed Faker-14.2.0\n",
      "Note: you may need to restart the kernel to use updated packages.\n"
     ]
    }
   ],
   "source": [
    "pip install Faker"
   ]
  },
  {
   "cell_type": "code",
   "execution_count": 2,
   "id": "7e57c5d3",
   "metadata": {},
   "outputs": [],
   "source": [
    "from faker import Faker\n",
    "fake = Faker()"
   ]
  },
  {
   "cell_type": "code",
   "execution_count": 3,
   "id": "87cd948d",
   "metadata": {},
   "outputs": [
    {
     "data": {
      "text/plain": [
       "'Sophia Oconnell'"
      ]
     },
     "execution_count": 3,
     "metadata": {},
     "output_type": "execute_result"
    }
   ],
   "source": [
    "fake.name()"
   ]
  },
  {
   "cell_type": "code",
   "execution_count": 4,
   "id": "72844571",
   "metadata": {},
   "outputs": [
    {
     "data": {
      "text/plain": [
       "'103 Buck Stream Suite 661\\nJasonmouth, IN 13967'"
      ]
     },
     "execution_count": 4,
     "metadata": {},
     "output_type": "execute_result"
    }
   ],
   "source": [
    "fake.address()"
   ]
  },
  {
   "cell_type": "code",
   "execution_count": 5,
   "id": "edaff474",
   "metadata": {},
   "outputs": [
    {
     "data": {
      "text/plain": [
       "'Publishing copy'"
      ]
     },
     "execution_count": 5,
     "metadata": {},
     "output_type": "execute_result"
    }
   ],
   "source": [
    "fake.job()"
   ]
  },
  {
   "cell_type": "code",
   "execution_count": 6,
   "id": "ffee1ed7",
   "metadata": {},
   "outputs": [
    {
     "data": {
      "text/plain": [
       "'Caleb Murphy'"
      ]
     },
     "execution_count": 6,
     "metadata": {},
     "output_type": "execute_result"
    }
   ],
   "source": [
    "fake.name_nonbinary()"
   ]
  },
  {
   "cell_type": "code",
   "execution_count": 7,
   "id": "1b49363d",
   "metadata": {},
   "outputs": [
    {
     "data": {
      "text/plain": [
       "'Angel Johnson'"
      ]
     },
     "execution_count": 7,
     "metadata": {},
     "output_type": "execute_result"
    }
   ],
   "source": [
    "fake.name()"
   ]
  },
  {
   "cell_type": "code",
   "execution_count": 8,
   "id": "8c3185b0",
   "metadata": {},
   "outputs": [
    {
     "data": {
      "text/plain": [
       "'Form area stuff trouble last.\\nMatter continue week month. Respond anyone near indicate scientist.'"
      ]
     },
     "execution_count": 8,
     "metadata": {},
     "output_type": "execute_result"
    }
   ],
   "source": [
    "fake.text()"
   ]
  },
  {
   "cell_type": "code",
   "execution_count": 10,
   "id": "4efe9ab5",
   "metadata": {},
   "outputs": [],
   "source": [
    "fake1 = Faker(\"hi-IN\")"
   ]
  },
  {
   "cell_type": "code",
   "execution_count": 11,
   "id": "0a15fc49",
   "metadata": {},
   "outputs": [
    {
     "data": {
      "text/plain": [
       "'विआन जोशी'"
      ]
     },
     "execution_count": 11,
     "metadata": {},
     "output_type": "execute_result"
    }
   ],
   "source": [
    "fake1.name()"
   ]
  },
  {
   "cell_type": "code",
   "execution_count": 12,
   "id": "e5358829",
   "metadata": {},
   "outputs": [
    {
     "data": {
      "text/plain": [
       "'92/8043 गायकवाड\\nदेवगढ़ 658109'"
      ]
     },
     "execution_count": 12,
     "metadata": {},
     "output_type": "execute_result"
    }
   ],
   "source": [
    "fake1.address()"
   ]
  },
  {
   "cell_type": "code",
   "execution_count": 14,
   "id": "daf11800",
   "metadata": {},
   "outputs": [
    {
     "data": {
      "text/plain": [
       "'चित्रकूट'"
      ]
     },
     "execution_count": 14,
     "metadata": {},
     "output_type": "execute_result"
    }
   ],
   "source": [
    "fake1.city()"
   ]
  }
 ],
 "metadata": {
  "kernelspec": {
   "display_name": "Python 3 (ipykernel)",
   "language": "python",
   "name": "python3"
  },
  "language_info": {
   "codemirror_mode": {
    "name": "ipython",
    "version": 3
   },
   "file_extension": ".py",
   "mimetype": "text/x-python",
   "name": "python",
   "nbconvert_exporter": "python",
   "pygments_lexer": "ipython3",
   "version": "3.9.7"
  }
 },
 "nbformat": 4,
 "nbformat_minor": 5
}
