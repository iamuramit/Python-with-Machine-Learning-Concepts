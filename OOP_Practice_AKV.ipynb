{
 "cells": [
  {
   "cell_type": "code",
   "execution_count": 1,
   "id": "82208701",
   "metadata": {},
   "outputs": [],
   "source": [
    "class Account:\n",
    "    def __init__(self, first_name, last_name, dob, gender):\n",
    "        self.first_name = first_name\n",
    "        self.last_name = last_name\n",
    "        self.dob = dob\n",
    "        self.gender = gender\n",
    "        self.bank_name = \"ICICI Bank\"\n",
    "    \n",
    "    def contact(self, address, mobile_no, email_id):\n",
    "        self.address = address\n",
    "        self.mobile_no = mobile_no\n",
    "        self.email_id = email_id\n",
    "    \n",
    "    def show_details(self):\n",
    "        print(\"Name :\", self.first_name, \" \", self.last_name)\n",
    "        print(\"Dob :\", self.dob)\n",
    "        print(\"Gender :\", self.dob)\n",
    "        print(\"Bank Name :\", self.bank_name)\n",
    "        print(\"Address :\", self.address)\n",
    "        print(\"Mobile No:\", self.mobile_no)\n",
    "        print(\"Email Id:\", self.email_id)"
   ]
  },
  {
   "cell_type": "code",
   "execution_count": 11,
   "id": "0b68e358",
   "metadata": {},
   "outputs": [
    {
     "name": "stdout",
     "output_type": "stream",
     "text": [
      "Name : Amit   Vishwakarma\n",
      "Dob : 01-12-1989\n",
      "Gender : 01-12-1989\n",
      "Bank Name : ICICI Bank\n",
      "Address : Bhopal\n",
      "Mobile No: 9713697726\n",
      "Email Id: iamuramit@gmail.com\n"
     ]
    }
   ],
   "source": [
    "amit = Account(\"Amit\", \"Vishwakarma\", \"01-12-1989\", \"Male\")\n",
    "amit.contact(\"Bhopal\", 9713697726, \"iamuramit@gmail.com\")\n",
    "amit.show_details()"
   ]
  },
  {
   "cell_type": "code",
   "execution_count": 13,
   "id": "2e25bf5e",
   "metadata": {},
   "outputs": [
    {
     "data": {
      "text/plain": [
       "'Amit'"
      ]
     },
     "execution_count": 13,
     "metadata": {},
     "output_type": "execute_result"
    }
   ],
   "source": [
    " amit.first_name"
   ]
  },
  {
   "cell_type": "code",
   "execution_count": 14,
   "id": "e9c305f6",
   "metadata": {},
   "outputs": [
    {
     "data": {
      "text/plain": [
       "'Vishwakarma'"
      ]
     },
     "execution_count": 14,
     "metadata": {},
     "output_type": "execute_result"
    }
   ],
   "source": [
    "amit.last_name"
   ]
  },
  {
   "cell_type": "code",
   "execution_count": 16,
   "id": "94bc5578",
   "metadata": {},
   "outputs": [
    {
     "data": {
      "text/plain": [
       "'Amit Vishwakarma'"
      ]
     },
     "execution_count": 16,
     "metadata": {},
     "output_type": "execute_result"
    }
   ],
   "source": [
    "amit.first_name+\" \"+amit.last_name"
   ]
  },
  {
   "cell_type": "raw",
   "id": "6c15d1fc",
   "metadata": {},
   "source": [
    "Python has the module called statistics and we can use this module to do all the statistical calculations. However, to learn how to make function and reuse function let us try to develop a program, which calculates the measure of central tendency of a sample (mean, median, mode) and measure of variability (range, variance, standard deviation). In addition to those measures, find the min, max, count, percentile, and frequency distribution of the sample. You can create a class called statistics and create all the functions that do statistical calculations as methods for the statistics class. Check the output below.\n",
    "\n",
    "ages = [31, 26, 34, 37, 27, 26, 32, 32, 26, 27, 27, 24, 32, 33, 27, 25, 26, 38, 37, 31, 34, 24, 33, 29, 26]\n",
    "print('Count:', data.count()) # 25\n",
    "print('Sum: ', data.sum()) # 744\n",
    "print('Min: ', data.min()) # 24\n",
    "print('Max: ', data.max()) # 38\n",
    "print('Range: ', data.range() # 14\n",
    "print('Mean: ', data.mean()) # 30\n",
    "print('Median: ', data.median()) # 29\n",
    "print('Mode: ', data.mode()) # {'mode': 26, 'count': 5}\n",
    "print('Standard Deviation: ', data.std()) # 4.2\n",
    "print('Variance: ', data.var()) # 17.5\n",
    "print('Frequency Distribution: ', data.freq_dist()) # [(20.0, 26), (16.0, 27), (12.0, 32), (8.0, 37), (8.0, 34), (8.0, 33), (8.0, 31), (8.0, 24), (4.0, 38), (4.0, 29), (4.0, 25)]\n",
    "-sh\n",
    "# you output should look like this:\n",
    "print(data.describe())\n",
    "Count: 25\n",
    "Sum:  744\n",
    "Min:  24\n",
    "Max:  38\n",
    "Range:  14\n",
    "Mean:  30\n",
    "Median:  29\n",
    "Mode:  (26, 5)\n",
    "Variance:  17.5\n",
    "Standard Deviation:  4.2\n",
    "Frequency Distribution: [(20.0, 26), (16.0, 27), (12.0, 32), (8.0, 37), (8.0, 34), (8.0, 33), (8.0, 31), (8.0, 24), (4.0, 38), (4.0, 29), (4.0, 25)]"
   ]
  },
  {
   "cell_type": "code",
   "execution_count": 70,
   "id": "1320040d",
   "metadata": {},
   "outputs": [],
   "source": [
    "import statistics\n",
    "class Stats:\n",
    "    \n",
    "    def __init__(self,list_of_numbers):\n",
    "        self.list_of_numbers = list_of_numbers\n",
    "    \n",
    "    def count(self):\n",
    "        count = len(self.list_of_numbers)\n",
    "        return count\n",
    "    \n",
    "    def total_sum(self):\n",
    "        total_sum = sum(self.list_of_numbers)\n",
    "        return total_sum\n",
    "    \n",
    "    def mini(self):\n",
    "        mini = min(self.list_of_numbers)\n",
    "        return mini\n",
    "    \n",
    "    def maxi(self):\n",
    "        maxi = max(self.list_of_numbers)\n",
    "        return maxi\n",
    "    \n",
    "    def range_between(self):\n",
    "        range_between = max(self.list_of_numbers) - min(self.list_of_numbers)\n",
    "        return range_between\n",
    "    \n",
    "    def calculate_mean_(self):\n",
    "        calculate_mean_ = sum(self.list_of_numbers)/len(self.list_of_numbers)\n",
    "        return calculate_mean_\n",
    "    \n",
    "    def calculate_median(self):\n",
    "        #2,4,6,8,10,12 = 6+1/2\n",
    "        self.list_of_numbers.sort()\n",
    "        if len(self.list_of_numbers) % 2==0:\n",
    "            calculate_median = (len(self.list_of_numbers)+1)/2\n",
    "            \n",
    "        else:\n",
    "                calculate_median = sum(self.list_of_numbers)/2  ### sort in ascending order\n",
    "        return calculate_median\n",
    "    \n",
    "    def calculate_mode(self):\n",
    "#         calculate_mode = statistics.multimode(self.list_of_numbers)\n",
    "#         return calculate_mode\n",
    "#         calculate_mode = mode\n",
    "        d = {}\n",
    "        for each_val in self.list_of_numbers:\n",
    "            if each_val in d: #[31, 26, 34, 37, 27, 26, 32, 32, 26, 27, 27, 24, 32, 33, 27, 25, 26, 38, 37, 31, 34, 24, 33, 29, 26]\n",
    "                d[each_val] = d[each_val]+1  \n",
    "            else:\n",
    "                d[each_val] = 1\n",
    "        freq_ = -1\n",
    "        mode = 0\n",
    "        for num, freq in d.items():\n",
    "            if freq>freq_:\n",
    "                freq_ = freq\n",
    "                mode = num    \n",
    "        return mode\n",
    "    \n",
    "    def calculate_variance(self):\n",
    "        calculate_variance = statistics.variance(self.list_of_numbers)\n",
    "        return calculate_variance\n",
    "    \n",
    "    def calculate_sd(self):\n",
    "        calculate_sd = (statistics.stdev(self.list_of_numbers))\n",
    "        return calculate_sd\n",
    "    \n",
    "    def calculate_freq(self):\n",
    "        import pandas as pd\n",
    "        calculate_freq = pd.Series(self.list_of_numbers)\n",
    "        return calculate_freq.value_counts()\n",
    "    \n",
    "    def data(self):\n",
    "        print(\"Count:\", self.count())\n",
    "        print(\"Sum:\", self.total_sum())\n",
    "        print(\"Min:\", self.mini())\n",
    "        print(\"Max:\", self.maxi())\n",
    "        print(\"Range:\", self.range_between())\n",
    "        print(\"Mean:\", self.calculate_mean_())\n",
    "        print(\"Median:\", self.calculate_median()) #doubt\n",
    "        print(\"Mode:\", self.calculate_mode())\n",
    "        print(\"Variance:\", self.calculate_variance())\n",
    "        print(\"Standard Deviation:\", round(self.calculate_sd(),2))\n",
    "        print(\"Frequency:\", self.calculate_freq())\n",
    "        \n",
    "        "
   ]
  },
  {
   "cell_type": "code",
   "execution_count": 71,
   "id": "0727cc54",
   "metadata": {},
   "outputs": [
    {
     "name": "stdout",
     "output_type": "stream",
     "text": [
      "Count: 25\n",
      "Sum: 744\n",
      "Min: 24\n",
      "Max: 38\n",
      "Range: 14\n",
      "Mean: 29.76\n",
      "Median: 372.0\n",
      "Mode: 26\n",
      "Variance: 18.273333333333333\n",
      "Standard Deviation: 4.27\n",
      "Frequency: 26    5\n",
      "27    4\n",
      "32    3\n",
      "24    2\n",
      "31    2\n",
      "33    2\n",
      "34    2\n",
      "37    2\n",
      "25    1\n",
      "29    1\n",
      "38    1\n",
      "dtype: int64\n"
     ]
    }
   ],
   "source": [
    "ages = [31, 26, 34, 37, 27, 26, 32, 32, 26, 27, 27, 24, 32, 33, 27, 25, 26, 38, 37, 31, 34, 24, 33, 29, 26]\n",
    "ages = Stats([31, 26, 34, 37, 27, 26, 32, 32, 26, 27, 27, 24, 32, 33, 27, 25, 26, 38, 37, 31, 34, 24, 33, 29, 26])\n",
    "ages.data()\n"
   ]
  },
  {
   "cell_type": "code",
   "execution_count": 26,
   "id": "40b4b843",
   "metadata": {},
   "outputs": [
    {
     "name": "stdout",
     "output_type": "stream",
     "text": [
      "[24, 24, 25, 26, 26, 26, 26, 26, 27, 27, 27, 27, 29, 31, 31, 32, 32, 32, 33, 33, 34, 34, 37, 37, 38]\n"
     ]
    }
   ],
   "source": [
    "ages = [31, 26, 34, 37, 27, 26, 32, 32, 26, 27, 27, 24, 32, 33, 27, 25, 26, 38, 37, 31, 34, 24, 33, 29, 26]\n",
    "ages.sort()\n",
    "print(ages)"
   ]
  },
  {
   "cell_type": "code",
   "execution_count": null,
   "id": "b2c16c36",
   "metadata": {},
   "outputs": [],
   "source": []
  }
 ],
 "metadata": {
  "kernelspec": {
   "display_name": "Python 3 (ipykernel)",
   "language": "python",
   "name": "python3"
  },
  "language_info": {
   "codemirror_mode": {
    "name": "ipython",
    "version": 3
   },
   "file_extension": ".py",
   "mimetype": "text/x-python",
   "name": "python",
   "nbconvert_exporter": "python",
   "pygments_lexer": "ipython3",
   "version": "3.9.7"
  }
 },
 "nbformat": 4,
 "nbformat_minor": 5
}
