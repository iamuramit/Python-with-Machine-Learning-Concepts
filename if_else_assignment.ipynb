{
 "cells": [
  {
   "cell_type": "raw",
   "id": "996f4d2f",
   "metadata": {},
   "source": [
    "##### Three is a Crowd\n",
    "- Make a list of names that includes at least four people.\n",
    "- Write an if test that prints a message about the room being crowded, if there are more than three people in your list.\n",
    "- Modify your list so that there are only two people in it. Use one of the methods for removing people from the list, don't just redefine the list.\n",
    "- Run your if test again. There should be no output this time, because there are less than three people in the list.\n",
    "- *Bonus:* Store your if test in a function called something like `crowd_test`.\n",
    "\n",
    "#### Three is a Crowd - Part 2\n",
    "- Save your program from Three is a Crowd under a new name.\n",
    "- Add an `else` statement to your if tests. If the `else` statement is run, have it print a message that the room is not very crowded.\n",
    "\n",
    "#### Six is a Mob\n",
    "- Save your program from Three is a Crowd - Part 2 under a new name.\n",
    "- Add some names to your list, so that there are at least six people in the list.\n",
    "- Modify your tests so that\n",
    "    - If there are more than 5 people, a message is printed about there being a mob in the room.\n",
    "    - If there are 3-5 people, a message is printed about the room being crowded.\n",
    "    - If there are 1 or 2 people, a message is printed about the room not being crowded.\n",
    "    - If there are no people in the room, a message is printed abou the room being empty."
   ]
  },
  {
   "cell_type": "code",
   "execution_count": null,
   "id": "56d23631",
   "metadata": {},
   "outputs": [],
   "source": [
    "# Make a list of names that includes at least four people."
   ]
  },
  {
   "cell_type": "code",
   "execution_count": 26,
   "id": "4e3d30b9",
   "metadata": {},
   "outputs": [
    {
     "name": "stdout",
     "output_type": "stream",
     "text": [
      "['amit', 'arun', 'aman', 'anay']\n"
     ]
    },
    {
     "data": {
      "text/plain": [
       "4"
      ]
     },
     "execution_count": 26,
     "metadata": {},
     "output_type": "execute_result"
    }
   ],
   "source": [
    "nList = ['amit', 'arun', 'aman', 'anay']\n",
    "print(nList)\n",
    "len(nList)"
   ]
  },
  {
   "cell_type": "code",
   "execution_count": null,
   "id": "394ed96e",
   "metadata": {},
   "outputs": [],
   "source": [
    "# Write an if test that prints a message about the room being crowded, if there are more than three people in your list."
   ]
  },
  {
   "cell_type": "code",
   "execution_count": 13,
   "id": "fa3b6d0c",
   "metadata": {},
   "outputs": [
    {
     "name": "stdout",
     "output_type": "stream",
     "text": [
      "the room being crowded\n"
     ]
    }
   ],
   "source": [
    "if len(nList) > 3:\n",
    "    print(\"the room being crowded\")\n",
    "else:\n",
    "    print(\"hi\")"
   ]
  },
  {
   "cell_type": "code",
   "execution_count": null,
   "id": "dd644f06",
   "metadata": {},
   "outputs": [],
   "source": [
    "# Modify your list so that there are only two people in it. \n",
    "#Use one of the methods for removing people from the list, \n",
    "#don't just redefine the list."
   ]
  },
  {
   "cell_type": "code",
   "execution_count": 28,
   "id": "9bbae7d7",
   "metadata": {},
   "outputs": [
    {
     "data": {
      "text/plain": [
       "['amit', 'arun']"
      ]
     },
     "execution_count": 28,
     "metadata": {},
     "output_type": "execute_result"
    }
   ],
   "source": [
    "nList = ['amit', 'arun', 'aman', 'anay']\n",
    "nList.remove('anay')\n",
    "nList.remove('aman')\n",
    "nList"
   ]
  },
  {
   "cell_type": "code",
   "execution_count": null,
   "id": "a581caba",
   "metadata": {},
   "outputs": [],
   "source": [
    "#Run your if test again. There should be no output this time, because there are less than three people in the list."
   ]
  },
  {
   "cell_type": "code",
   "execution_count": 30,
   "id": "996ed356",
   "metadata": {},
   "outputs": [],
   "source": [
    "if len(nList) > 3:\n",
    "    print(\"the room being crowded\")"
   ]
  },
  {
   "cell_type": "code",
   "execution_count": null,
   "id": "77990001",
   "metadata": {},
   "outputs": [],
   "source": [
    "# *Bonus:* Store your if test in a function called something like `crowd_test`."
   ]
  },
  {
   "cell_type": "code",
   "execution_count": null,
   "id": "4d1ea462",
   "metadata": {},
   "outputs": [],
   "source": [
    "Doubt"
   ]
  },
  {
   "cell_type": "code",
   "execution_count": null,
   "id": "3410bee3",
   "metadata": {},
   "outputs": [],
   "source": [
    "#### Three is a Crowd - Part 2 - Save your program from Three is a Crowd under a new name."
   ]
  },
  {
   "cell_type": "code",
   "execution_count": null,
   "id": "9650828e",
   "metadata": {},
   "outputs": [],
   "source": [
    "#Add an `else` statement to your if tests. If the `else` statement is run, \n",
    "#have it print a message that the room is not very crowded."
   ]
  },
  {
   "cell_type": "code",
   "execution_count": 31,
   "id": "e39da704",
   "metadata": {},
   "outputs": [
    {
     "name": "stdout",
     "output_type": "stream",
     "text": [
      "the room is not very crowded\n"
     ]
    }
   ],
   "source": [
    "if len(nList) > 3:\n",
    "    print(\"the room being crowded\")\n",
    "else:\n",
    "    print(\"the room is not very crowded\")"
   ]
  },
  {
   "cell_type": "code",
   "execution_count": null,
   "id": "020ecd8b",
   "metadata": {},
   "outputs": [],
   "source": [
    "#### Six is a Mob\n",
    "- Save your program from Three is a Crowd - Part 2 under a new name.\n",
    "- Add some names to your list, so that there are at least six people in the list.\n",
    "- Modify your tests so that\n",
    "   - If there are more than 5 people, a message is printed about there being a mob in the room.\n",
    "    - If there are 3-5 people, a message is printed about the room being crowded.\n",
    "    - If there are 1 or 2 people, a message is printed about the room not being crowded.\n",
    "    - If there are no people in the room, a message is printed abou the room being empty."
   ]
  },
  {
   "cell_type": "code",
   "execution_count": 42,
   "id": "a6396859",
   "metadata": {},
   "outputs": [
    {
     "name": "stdout",
     "output_type": "stream",
     "text": [
      "there being a mob in the room\n"
     ]
    }
   ],
   "source": [
    "nList = ['amit', 'arun', 'aman', 'vijay', 'rahul', 'pankaj']\n",
    "if len(nList) > 5:\n",
    "    print(\"there being a mob in the room\")\n",
    "    \n",
    "elif 3 <= len(nList) <= 5:\n",
    "    print(\"the room being crowded\")\n",
    "    \n",
    "elif 1 <= len(nList) <= 2:\n",
    "     print(\"the room not being crowded\")\n",
    "      \n",
    "else:\n",
    "    print(\"the room being empty\")"
   ]
  },
  {
   "cell_type": "code",
   "execution_count": 43,
   "id": "c28d610d",
   "metadata": {},
   "outputs": [
    {
     "name": "stdout",
     "output_type": "stream",
     "text": [
      "the room being crowded\n"
     ]
    }
   ],
   "source": [
    "nList = ['amit', 'arun', 'aman', 'vijay', 'rahul']\n",
    "if len(nList) > 5:\n",
    "    print(\"there being a mob in the room\")\n",
    "    \n",
    "elif 3 <= len(nList) <= 5:\n",
    "    print(\"the room being crowded\")\n",
    "    \n",
    "elif 1 <= len(nList) <= 2:\n",
    "     print(\"the room not being crowded\")\n",
    "      \n",
    "else:\n",
    "    print(\"the room being empty\")"
   ]
  },
  {
   "cell_type": "code",
   "execution_count": 44,
   "id": "bb4f4827",
   "metadata": {},
   "outputs": [
    {
     "name": "stdout",
     "output_type": "stream",
     "text": [
      "the room not being crowded\n"
     ]
    }
   ],
   "source": [
    "nList = ['amit', 'arun']\n",
    "if len(nList) > 5:\n",
    "    print(\"there being a mob in the room\")\n",
    "    \n",
    "elif 3 <= len(nList) <= 5:\n",
    "    print(\"the room being crowded\")\n",
    "    \n",
    "elif 1 <= len(nList) <= 2:\n",
    "     print(\"the room not being crowded\")\n",
    "      \n",
    "else:\n",
    "    print(\"the room being empty\")"
   ]
  },
  {
   "cell_type": "code",
   "execution_count": 45,
   "id": "8f295c46",
   "metadata": {},
   "outputs": [
    {
     "name": "stdout",
     "output_type": "stream",
     "text": [
      "the room being empty\n"
     ]
    }
   ],
   "source": [
    "nList = []\n",
    "if len(nList) > 5:\n",
    "    print(\"there being a mob in the room\")\n",
    "    \n",
    "elif 3 <= len(nList) <= 5:\n",
    "    print(\"the room being crowded\")\n",
    "    \n",
    "elif 1 <= len(nList) <= 2:\n",
    "     print(\"the room not being crowded\")\n",
    "      \n",
    "else:\n",
    "    print(\"the room being empty\")"
   ]
  },
  {
   "cell_type": "code",
   "execution_count": null,
   "id": "4c4b4f1d",
   "metadata": {},
   "outputs": [],
   "source": []
  }
 ],
 "metadata": {
  "kernelspec": {
   "display_name": "Python 3 (ipykernel)",
   "language": "python",
   "name": "python3"
  },
  "language_info": {
   "codemirror_mode": {
    "name": "ipython",
    "version": 3
   },
   "file_extension": ".py",
   "mimetype": "text/x-python",
   "name": "python",
   "nbconvert_exporter": "python",
   "pygments_lexer": "ipython3",
   "version": "3.9.7"
  }
 },
 "nbformat": 4,
 "nbformat_minor": 5
}
