{
  "nbformat": 4,
  "nbformat_minor": 0,
  "metadata": {
    "colab": {
      "provenance": [],
      "authorship_tag": "ABX9TyP+cBfJBoidcE/3j9u6x/cm",
      "include_colab_link": true
    },
    "kernelspec": {
      "name": "python3",
      "display_name": "Python 3"
    },
    "language_info": {
      "name": "python"
    }
  },
  "cells": [
    {
      "cell_type": "markdown",
      "metadata": {
        "id": "view-in-github",
        "colab_type": "text"
      },
      "source": [
        "<a href=\"https://colab.research.google.com/github/iamuramit/Python-with-Machine-Learning-Concepts/blob/main/Basic_Calculator_Python.ipynb\" target=\"_parent\"><img src=\"https://colab.research.google.com/assets/colab-badge.svg\" alt=\"Open In Colab\"/></a>"
      ]
    },
    {
      "cell_type": "code",
      "source": [
        "# Function to add two numbers\n",
        "def add(x,y):\n",
        "  return x+y\n",
        "\n",
        "# Function to substract two numbers\n",
        "def substract(x,y):\n",
        "  return x-y\n",
        "\n",
        "# Function to multiply two numbers\n",
        "def multiply(x,y):\n",
        "  return x*y\n",
        "\n",
        "# Function to divide two numbers\n",
        "def divide(x,y):\n",
        "  if y==0:\n",
        "    return \"Error: Division by zero not allowed\"\n",
        "  else:\n",
        "    return x/y\n",
        "\n",
        "\n",
        "def calculator():\n",
        "  print(\"Welcome to the calculator!\")\n",
        "  print(\"Please select an operation:\")\n",
        "  print(\"1. Add\")\n",
        "  print(\"2. Substract\")\n",
        "  print(\"3. Multiply\")\n",
        "  print(\"4. Divide\")\n",
        "\n",
        "  while True:\n",
        "    #Take input from the user\n",
        "    choice = input(\"Enter your choice (1/2/3/4): \")\n",
        "\n",
        "    #check if the input is one of the four options\n",
        "    if choice in ['1','2','3','4']:\n",
        "      num1 = float(input(\"Enter first number: \"))\n",
        "      num2 = float(input(\"Enter second number: \"))\n",
        "\n",
        "      if choice == '1':\n",
        "        print(\"Result: \", add(num1,num2))\n",
        "\n",
        "      if choice == '2':\n",
        "        print(\"Result: \", substract(num1,num2))\n",
        "\n",
        "      if choice == '3':\n",
        "        print(\"Result: \", multiply(num1,num2))\n",
        "\n",
        "      if choice == '4':\n",
        "        print(\"Result: \", divide(num1,num2))\n",
        "\n",
        "    #Option to exit the loop\n",
        "    next_calculation = input(\"Do you want to perform another calculation? (yes/no): \")\n",
        "    if next_calculation.lower() != 'yes':\n",
        "      print(\"Thank you for using the calculator!\")\n",
        "      break\n",
        "\n",
        "  print(\"Exiting Calculator. Goodbye!\")\n",
        "\n",
        "  # Call the calculator funtion\n",
        "  #calculator()"
      ],
      "metadata": {
        "id": "fVjVJGL7TEzM"
      },
      "execution_count": null,
      "outputs": []
    },
    {
      "cell_type": "code",
      "source": [
        "calculator()"
      ],
      "metadata": {
        "colab": {
          "base_uri": "https://localhost:8080/"
        },
        "id": "SssJDE7yUHsV",
        "outputId": "de15e235-2e6c-46fa-9efc-bef78e9b145a"
      },
      "execution_count": null,
      "outputs": [
        {
          "output_type": "stream",
          "name": "stdout",
          "text": [
            "Welcome to the calculator!\n",
            "Please select an operation:\n",
            "1. Add\n",
            "2. Substract\n",
            "3. Multiply\n",
            "4. Divide\n",
            "Enter your choice (1/2/3/4): 1\n",
            "Enter first number: 15\n",
            "Enter second number: 40\n",
            "Result:  55.0\n",
            "Do you want to perform another calculation? (yes/no): yes\n",
            "Enter your choice (1/2/3/4): 2\n",
            "Enter first number: 10\n",
            "Enter second number: 5\n",
            "Result:  5.0\n",
            "Do you want to perform another calculation? (yes/no): no\n",
            "Thank you for using the calculator!\n",
            "Exiting Calculator. Goodbye!\n"
          ]
        }
      ]
    }
  ]
}