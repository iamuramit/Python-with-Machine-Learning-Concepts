{
 "cells": [
  {
   "cell_type": "code",
   "execution_count": 1,
   "id": "da52c155",
   "metadata": {},
   "outputs": [],
   "source": [
    "teams = ['kkr', 'csk', 'rcb', 'lsg', 'srh']"
   ]
  },
  {
   "cell_type": "code",
   "execution_count": 3,
   "id": "0c00446d",
   "metadata": {},
   "outputs": [
    {
     "data": {
      "text/plain": [
       "'kkr'"
      ]
     },
     "execution_count": 3,
     "metadata": {},
     "output_type": "execute_result"
    }
   ],
   "source": [
    "first_team = teams[0] #Fetch First element\n",
    "first_team"
   ]
  },
  {
   "cell_type": "code",
   "execution_count": 5,
   "id": "9a96eeb5",
   "metadata": {},
   "outputs": [
    {
     "data": {
      "text/plain": [
       "'srh'"
      ]
     },
     "execution_count": 5,
     "metadata": {},
     "output_type": "execute_result"
    }
   ],
   "source": [
    " Last_team = teams[-1] #Last element\n",
    " Last_team"
   ]
  },
  {
   "cell_type": "code",
   "execution_count": 6,
   "id": "7cb393a8",
   "metadata": {},
   "outputs": [
    {
     "data": {
      "text/plain": [
       "['Kolkata Knight Riders', 'csk', 'rcb', 'lsg', 'srh']"
      ]
     },
     "execution_count": 6,
     "metadata": {},
     "output_type": "execute_result"
    }
   ],
   "source": [
    "teams[0] = 'Kolkata Knight Riders' #change/modifying the individual element\n",
    "teams"
   ]
  },
  {
   "cell_type": "code",
   "execution_count": 7,
   "id": "53f7aee4",
   "metadata": {},
   "outputs": [
    {
     "data": {
      "text/plain": [
       "['Kolkata Knight Riders', 'csk', 'rcb', 'Lucknow Super Giants', 'srh']"
      ]
     },
     "execution_count": 7,
     "metadata": {},
     "output_type": "execute_result"
    }
   ],
   "source": [
    "teams[-2] = 'Lucknow Super Giants' #\n",
    "teams"
   ]
  },
  {
   "cell_type": "code",
   "execution_count": 8,
   "id": "faf728d1",
   "metadata": {},
   "outputs": [
    {
     "data": {
      "text/plain": [
       "['Kolkata Knight Riders', 'csk', 'rcb', 'Lucknow Super Giants', 'srh', 'rr']"
      ]
     },
     "execution_count": 8,
     "metadata": {},
     "output_type": "execute_result"
    }
   ],
   "source": [
    "teams.append('rr') #append the elements\n",
    "teams"
   ]
  },
  {
   "cell_type": "code",
   "execution_count": 13,
   "id": "ff36dd16",
   "metadata": {},
   "outputs": [
    {
     "name": "stdout",
     "output_type": "stream",
     "text": [
      "[]\n"
     ]
    },
    {
     "data": {
      "text/plain": [
       "list"
      ]
     },
     "execution_count": 13,
     "metadata": {},
     "output_type": "execute_result"
    }
   ],
   "source": [
    "teams1 = [] #empty list\n",
    "print(teams1)\n",
    "type(teams1)"
   ]
  },
  {
   "cell_type": "code",
   "execution_count": 15,
   "id": "c3077bfb",
   "metadata": {},
   "outputs": [
    {
     "data": {
      "text/plain": [
       "['mi', 'gl', 'mi', 'gl', 'any']"
      ]
     },
     "execution_count": 15,
     "metadata": {},
     "output_type": "execute_result"
    }
   ],
   "source": [
    "teams1.append('any')#inserting an element to the end of the list\n",
    "teams1"
   ]
  },
  {
   "cell_type": "code",
   "execution_count": 29,
   "id": "178cbeea",
   "metadata": {},
   "outputs": [
    {
     "data": {
      "text/plain": [
       "['mi', 'gl', 'any', 'delete karne wala item']"
      ]
     },
     "execution_count": 29,
     "metadata": {},
     "output_type": "execute_result"
    }
   ],
   "source": [
    "teams1.append('delete karne wala item')\n",
    "teams1"
   ]
  },
  {
   "cell_type": "code",
   "execution_count": 31,
   "id": "7555359a",
   "metadata": {},
   "outputs": [
    {
     "data": {
      "text/plain": [
       "['mi', 'gl', 'any']"
      ]
     },
     "execution_count": 31,
     "metadata": {},
     "output_type": "execute_result"
    }
   ],
   "source": [
    "teams1"
   ]
  },
  {
   "cell_type": "code",
   "execution_count": 32,
   "id": "744cee9d",
   "metadata": {},
   "outputs": [
    {
     "data": {
      "text/plain": [
       "['pahla element me', 'mi', 'gl', 'any']"
      ]
     },
     "execution_count": 32,
     "metadata": {},
     "output_type": "execute_result"
    }
   ],
   "source": [
    "teams1.insert(0,'pahla element me') #inserting an element at a particular location\n",
    "teams1"
   ]
  },
  {
   "cell_type": "code",
   "execution_count": 33,
   "id": "fed4c36c",
   "metadata": {},
   "outputs": [
    {
     "data": {
      "text/plain": [
       "['pahla element me', 'mi', 'gl', '4th me', 'any']"
      ]
     },
     "execution_count": 33,
     "metadata": {},
     "output_type": "execute_result"
    }
   ],
   "source": [
    "teams1.insert(3,'4th me')\n",
    "teams1"
   ]
  },
  {
   "cell_type": "code",
   "execution_count": 30,
   "id": "13a69118",
   "metadata": {},
   "outputs": [],
   "source": [
    "del teams1[-1] #remove/delete the last element"
   ]
  },
  {
   "cell_type": "code",
   "execution_count": 34,
   "id": "94f52241",
   "metadata": {
    "scrolled": true
   },
   "outputs": [
    {
     "data": {
      "text/plain": [
       "['pahla element me', 'mi', 'gl', '4th me']"
      ]
     },
     "execution_count": 34,
     "metadata": {},
     "output_type": "execute_result"
    }
   ],
   "source": [
    "teams1.remove('any') #removing an items by its value\n",
    "teams1"
   ]
  },
  {
   "cell_type": "code",
   "execution_count": 36,
   "id": "70faaf1d",
   "metadata": {},
   "outputs": [
    {
     "name": "stdout",
     "output_type": "stream",
     "text": [
      "gl\n"
     ]
    }
   ],
   "source": [
    "teams1\n",
    "most_recent_teams=teams1.pop()\n",
    "print(most_recent_teams)"
   ]
  },
  {
   "cell_type": "code",
   "execution_count": 37,
   "id": "f58f588b",
   "metadata": {},
   "outputs": [
    {
     "data": {
      "text/plain": [
       "['pahla element me', 'mi']"
      ]
     },
     "execution_count": 37,
     "metadata": {},
     "output_type": "execute_result"
    }
   ],
   "source": [
    "teams1"
   ]
  },
  {
   "cell_type": "code",
   "execution_count": 38,
   "id": "2a90fbd6",
   "metadata": {},
   "outputs": [
    {
     "name": "stdout",
     "output_type": "stream",
     "text": [
      "pahla element me\n"
     ]
    }
   ],
   "source": [
    "first_team = teams1.pop(0) #pop the first element in the list\n",
    "print(first_team)"
   ]
  },
  {
   "cell_type": "code",
   "execution_count": 46,
   "id": "07f1a422",
   "metadata": {},
   "outputs": [
    {
     "name": "stdout",
     "output_type": "stream",
     "text": [
      "1\n",
      "we have 1 team\n"
     ]
    }
   ],
   "source": [
    "num_team = len(teams1) #returns the number of items in a list\n",
    "print(num_team)\n",
    "print(\"we have \" +str(num_team)+ \" team\")"
   ]
  },
  {
   "cell_type": "code",
   "execution_count": 44,
   "id": "06acf93d",
   "metadata": {},
   "outputs": [
    {
     "data": {
      "text/plain": [
       "['mi']"
      ]
     },
     "execution_count": 44,
     "metadata": {},
     "output_type": "execute_result"
    }
   ],
   "source": [
    "teams1"
   ]
  },
  {
   "cell_type": "code",
   "execution_count": 47,
   "id": "4ba7b35a",
   "metadata": {},
   "outputs": [
    {
     "data": {
      "text/plain": [
       "['mi', 'gl', 'rr', 'csk', 'kkr']"
      ]
     },
     "execution_count": 47,
     "metadata": {},
     "output_type": "execute_result"
    }
   ],
   "source": [
    "teams1.append(\"gl\")\n",
    "teams1.append(\"rr\")\n",
    "teams1.append(\"csk\")\n",
    "teams1.append(\"kkr\")\n",
    "teams1"
   ]
  },
  {
   "cell_type": "code",
   "execution_count": 49,
   "id": "ef8982a9",
   "metadata": {},
   "outputs": [
    {
     "data": {
      "text/plain": [
       "['csk', 'gl', 'kkr', 'mi', 'rr']"
      ]
     },
     "execution_count": 49,
     "metadata": {},
     "output_type": "execute_result"
    }
   ],
   "source": [
    "teams1.sort() #sorting list permanently\n",
    "teams1"
   ]
  },
  {
   "cell_type": "code",
   "execution_count": 51,
   "id": "0be391a3",
   "metadata": {},
   "outputs": [
    {
     "data": {
      "text/plain": [
       "['rr', 'mi', 'kkr', 'gl', 'csk']"
      ]
     },
     "execution_count": 51,
     "metadata": {},
     "output_type": "execute_result"
    }
   ],
   "source": [
    "teams1.sort(reverse=True) #sorting list permanently in reverse alpabatically order\n",
    "teams1"
   ]
  },
  {
   "cell_type": "code",
   "execution_count": 52,
   "id": "ce44e88b",
   "metadata": {},
   "outputs": [
    {
     "name": "stdout",
     "output_type": "stream",
     "text": [
      "['csk', 'gl', 'kkr', 'mi', 'rr']\n",
      "['rr', 'mi', 'kkr', 'gl', 'csk']\n"
     ]
    }
   ],
   "source": [
    "print(sorted(teams1)) #sorting a list temporarily\n",
    "print(sorted(teams1, reverse=True)) "
   ]
  },
  {
   "cell_type": "code",
   "execution_count": 53,
   "id": "348c47b6",
   "metadata": {},
   "outputs": [
    {
     "data": {
      "text/plain": [
       "['csk', 'gl', 'kkr', 'mi', 'rr']"
      ]
     },
     "execution_count": 53,
     "metadata": {},
     "output_type": "execute_result"
    }
   ],
   "source": [
    "teams1.reverse() #reverse the order of the list\n",
    "teams1"
   ]
  },
  {
   "cell_type": "code",
   "execution_count": 54,
   "id": "8147e68b",
   "metadata": {},
   "outputs": [
    {
     "name": "stdout",
     "output_type": "stream",
     "text": [
      "csk\n",
      "gl\n",
      "kkr\n",
      "mi\n",
      "rr\n"
     ]
    }
   ],
   "source": [
    "for each_items in teams1: #printing all items in the list\n",
    "    print(each_items)"
   ]
  },
  {
   "cell_type": "code",
   "execution_count": 55,
   "id": "c6d8b07e",
   "metadata": {},
   "outputs": [
    {
     "name": "stdout",
     "output_type": "stream",
     "text": [
      "Welcome csk !\n",
      "Welcome gl !\n",
      "Welcome kkr !\n",
      "Welcome mi !\n",
      "Welcome rr !\n",
      "Welcome we are glad to see you all\n"
     ]
    }
   ],
   "source": [
    "for each_items in teams1: #printing all items in the list\n",
    "    print(\"Welcome \"+each_items+\" !\")\n",
    "print(\"Welcome we are glad to see you all\")"
   ]
  },
  {
   "cell_type": "code",
   "execution_count": null,
   "id": "7494f9f4",
   "metadata": {},
   "outputs": [],
   "source": []
  },
  {
   "cell_type": "code",
   "execution_count": null,
   "id": "9e5901b7",
   "metadata": {},
   "outputs": [],
   "source": []
  }
 ],
 "metadata": {
  "kernelspec": {
   "display_name": "Python 3 (ipykernel)",
   "language": "python",
   "name": "python3"
  },
  "language_info": {
   "codemirror_mode": {
    "name": "ipython",
    "version": 3
   },
   "file_extension": ".py",
   "mimetype": "text/x-python",
   "name": "python",
   "nbconvert_exporter": "python",
   "pygments_lexer": "ipython3",
   "version": "3.9.7"
  }
 },
 "nbformat": 4,
 "nbformat_minor": 5
}
