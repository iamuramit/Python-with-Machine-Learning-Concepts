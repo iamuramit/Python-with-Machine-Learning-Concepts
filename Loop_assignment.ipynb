{
 "cells": [
  {
   "cell_type": "markdown",
   "id": "7d075868",
   "metadata": {},
   "source": [
    "### Loop Assignment"
   ]
  },
  {
   "cell_type": "code",
   "execution_count": null,
   "id": "438a7c97",
   "metadata": {},
   "outputs": [],
   "source": [
    "# write a program to calulcate factorial\n",
    "# 5! = 5 * 4 *3 *2 * 1 = 120\n",
    "\n",
    "# l1 = [1,2,3,4,6,2,4,6]\n",
    "list_of_even = []\n",
    "list_of_odd = []\n",
    "\n",
    "## l2 = [list of numbers] \n",
    "list_of_number divisible by 2\n",
    "list of number divisible by 3\n",
    "\n",
    "## l1 = [1,2,3,4,5,6] -> [1, 8,9, 64, 25, 216]\n",
    "## find the cube of a number if it is even else find square of a number"
   ]
  },
  {
   "cell_type": "code",
   "execution_count": null,
   "id": "6512855d",
   "metadata": {},
   "outputs": [],
   "source": [
    "# l1 = [1,2,3,4,6,2,4,6]\n",
    "list_of_even = []\n",
    "list_of_odd = []"
   ]
  },
  {
   "cell_type": "code",
   "execution_count": 3,
   "id": "fbca7450",
   "metadata": {},
   "outputs": [
    {
     "name": "stdout",
     "output_type": "stream",
     "text": [
      "even\n"
     ]
    }
   ],
   "source": [
    "List = [1,2,3,4,5,6,7,8]\n",
    "if len(List) % 2 == 0:\n",
    "    print (\"even\")\n",
    "else:\n",
    "    print (\"odd\")"
   ]
  },
  {
   "cell_type": "code",
   "execution_count": 9,
   "id": "9a18d302",
   "metadata": {},
   "outputs": [
    {
     "name": "stdout",
     "output_type": "stream",
     "text": [
      "List 1:  [2, 4, 6, 8]\n",
      "List 2:  [1, 3, 5, 7, 9]\n"
     ]
    }
   ],
   "source": [
    "List = [1,2,3,4,5,6,7,8,9]\n",
    "l1=[]\n",
    "l2=[]\n",
    "for num in List:\n",
    "    #check even\n",
    "    if num % 2 == 0:\n",
    "        l1.append(num)\n",
    "    #check odd\n",
    "    elif num % 2 != 0:\n",
    "        l2.append(num)\n",
    "    \n",
    "print(\"List 1: \", l1)\n",
    "print(\"List 2: \", l2)"
   ]
  },
  {
   "cell_type": "code",
   "execution_count": null,
   "id": "1ee14ec9",
   "metadata": {},
   "outputs": [],
   "source": [
    "# write a program to calulcate factorial\n",
    "# 5! = 5 * 4 *3 *2 * 1 = 120"
   ]
  },
  {
   "cell_type": "code",
   "execution_count": 18,
   "id": "fcb81ddf",
   "metadata": {},
   "outputs": [
    {
     "name": "stdout",
     "output_type": "stream",
     "text": [
      "The Factorial of  5 is  120\n"
     ]
    }
   ],
   "source": [
    "num = 5\n",
    "fact = 1\n",
    "for i in range(1, num+1):\n",
    "    fact = fact * i\n",
    "print(\"The Factorial of \", num, \"is \", fact)"
   ]
  },
  {
   "cell_type": "code",
   "execution_count": null,
   "id": "20a5c979",
   "metadata": {},
   "outputs": [],
   "source": [
    "## l2 = [list of numbers] \n",
    "list_of_number divisible by 2\n",
    "list of number divisible by 3"
   ]
  },
  {
   "cell_type": "code",
   "execution_count": 20,
   "id": "80660100",
   "metadata": {},
   "outputs": [
    {
     "name": "stdout",
     "output_type": "stream",
     "text": [
      "Div by 2:  [2, 4, 6, 8]\n",
      "Div by 3:  [3, 9]\n"
     ]
    }
   ],
   "source": [
    "List = [1,2,3,4,5,6,7,8,9]\n",
    "l1=[]\n",
    "l2=[]\n",
    "for num in List:\n",
    "    #check div by 2\n",
    "    if num % 2 == 0:\n",
    "        l1.append(num)\n",
    "    #check div by 3\n",
    "    elif num % 3 == 0:\n",
    "        l2.append(num)\n",
    "    \n",
    "print(\"Div by 2: \", l1)\n",
    "print(\"Div by 3: \", l2)"
   ]
  },
  {
   "cell_type": "code",
   "execution_count": 21,
   "id": "3e32c209",
   "metadata": {},
   "outputs": [
    {
     "name": "stdout",
     "output_type": "stream",
     "text": [
      "List : [1, 8, 9, 64, 25, 216, 49, 512, 81]\n"
     ]
    }
   ],
   "source": [
    "## l1 = [1,2,3,4,5,6] -> [1, 8,9, 64, 25, 216]\n",
    "## find the cube of a number if it is even else find square of a number\n",
    "\n",
    "List = [1,2,3,4,5,6,7,8,9]\n",
    "l1=[]\n",
    "for num in List:\n",
    "    #check div by 2\n",
    "    if num % 2 == 0:\n",
    "        l1.append(num*num*num)\n",
    "    #check div by 3\n",
    "    elif num % 2 != 0:\n",
    "        l1.append(num*num)\n",
    "\n",
    "print(\"List :\", l1)\n"
   ]
  },
  {
   "cell_type": "code",
   "execution_count": null,
   "id": "1dc8e785",
   "metadata": {},
   "outputs": [],
   "source": []
  }
 ],
 "metadata": {
  "kernelspec": {
   "display_name": "Python 3 (ipykernel)",
   "language": "python",
   "name": "python3"
  },
  "language_info": {
   "codemirror_mode": {
    "name": "ipython",
    "version": 3
   },
   "file_extension": ".py",
   "mimetype": "text/x-python",
   "name": "python",
   "nbconvert_exporter": "python",
   "pygments_lexer": "ipython3",
   "version": "3.9.7"
  }
 },
 "nbformat": 4,
 "nbformat_minor": 5
}
