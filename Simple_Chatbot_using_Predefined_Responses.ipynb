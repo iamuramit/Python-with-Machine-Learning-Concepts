{
  "nbformat": 4,
  "nbformat_minor": 0,
  "metadata": {
    "colab": {
      "provenance": [],
      "authorship_tag": "ABX9TyNc235PXK/av9p+tyLGt1Ql",
      "include_colab_link": true
    },
    "kernelspec": {
      "name": "python3",
      "display_name": "Python 3"
    },
    "language_info": {
      "name": "python"
    }
  },
  "cells": [
    {
      "cell_type": "markdown",
      "metadata": {
        "id": "view-in-github",
        "colab_type": "text"
      },
      "source": [
        "<a href=\"https://colab.research.google.com/github/iamuramit/Python-with-Machine-Learning-Concepts/blob/main/Simple_Chatbot_using_Predefined_Responses.ipynb\" target=\"_parent\"><img src=\"https://colab.research.google.com/assets/colab-badge.svg\" alt=\"Open In Colab\"/></a>"
      ]
    },
    {
      "cell_type": "code",
      "execution_count": 2,
      "metadata": {
        "id": "UDRwt63B7L-8"
      },
      "outputs": [],
      "source": [
        "# Import the regular expression module to handle pattern matching\n",
        "import re\n",
        "\n",
        "# A dictionary that maps keywords to predifined responses\n",
        "responses = {\n",
        "    \"hello\": \"Hi there! How can I assist you today\",\n",
        "    \"hi\": \"Hello! How can I help you?\",\n",
        "    \"how are you\": \"I'm just a bot, but I'm doing great! How about you?\",\n",
        "    \"what is your name\": \"I'm a chatbot created to assist you.\",\n",
        "    \"help\": \"Sure, I'm here to help. What do you need assistance with?\",\n",
        "    \"bye\": \"Goodbye! Have a great day!\",\n",
        "    \"thank you\": \"You're welcome! I'm happy to help.\",\n",
        "    \"default\": \"I'm sorry, I didn't understand that. Could you please rephrase?\"\n",
        "}"
      ]
    },
    {
      "cell_type": "code",
      "source": [
        "# Function to find the appropiate response based on the user's input\n",
        "def chatbot_response(user_input):\n",
        "    # Convert the user input to lowercase for case-insensitive matching\n",
        "    user_input = user_input.lower()\n",
        "\n",
        "    for keyword in responses:\n",
        "      if re.search(keyword, user_input):\n",
        "        return responses[keyword]\n",
        "\n",
        "    return responses[default]\n",
        "\n",
        "# Main function to run the chatboat\n",
        "def chatbot():\n",
        "  print(\"Chatbot : Hello! How can I assist you today? (type 'bye' to exit)\")\n",
        "\n",
        "  while True:\n",
        "    # Get user input\n",
        "    user_input = input(\"You: \")\n",
        "\n",
        "    # if user types 'bye', exit the loop\n",
        "    if user_input.lower() == 'bye':\n",
        "      print(\"Chatbot: Goodbye! Have a great day!\")\n",
        "      break\n",
        "\n",
        "    # If chatbot's response based on user input\n",
        "    response = chatbot_response(user_input)\n",
        "\n",
        "    # Print chatbot's response\n",
        "    print(\"Chatbot:\", response)\n",
        "\n",
        "# Run the chatbot\n",
        "#chatbot()"
      ],
      "metadata": {
        "id": "-SWWLc587WtU"
      },
      "execution_count": 5,
      "outputs": []
    },
    {
      "cell_type": "code",
      "source": [
        "chatbot()"
      ],
      "metadata": {
        "colab": {
          "base_uri": "https://localhost:8080/"
        },
        "id": "PKC0qSu27Wwc",
        "outputId": "270102ca-9b6e-4d41-be34-5043c0ad32b4"
      },
      "execution_count": 8,
      "outputs": [
        {
          "output_type": "stream",
          "name": "stdout",
          "text": [
            "Chatbot : Hello! How can I assist you today? (type 'bye' to exit)\n",
            "You: hi\n",
            "Chatbot: Hello! How can I help you?\n",
            "You: hello\n",
            "Chatbot: Hi there! How can I assist you today\n",
            "You: help\n",
            "Chatbot: Sure, I'm here to help. What do you need assistance with?\n",
            "You: bye\n",
            "Chatbot: Goodbye! Have a great day!\n"
          ]
        }
      ]
    },
    {
      "cell_type": "code",
      "source": [],
      "metadata": {
        "id": "DrqeY5Bv7Wzc"
      },
      "execution_count": null,
      "outputs": []
    },
    {
      "cell_type": "code",
      "source": [],
      "metadata": {
        "id": "-9EvaErT7W2d"
      },
      "execution_count": null,
      "outputs": []
    },
    {
      "cell_type": "code",
      "source": [],
      "metadata": {
        "id": "CbsHEBrY7W4-"
      },
      "execution_count": null,
      "outputs": []
    }
  ]
}