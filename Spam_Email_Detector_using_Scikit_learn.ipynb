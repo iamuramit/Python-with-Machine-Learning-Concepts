{
  "nbformat": 4,
  "nbformat_minor": 0,
  "metadata": {
    "colab": {
      "provenance": [],
      "authorship_tag": "ABX9TyMZn1ArFvSAzagHCifHS5+7",
      "include_colab_link": true
    },
    "kernelspec": {
      "name": "python3",
      "display_name": "Python 3"
    },
    "language_info": {
      "name": "python"
    }
  },
  "cells": [
    {
      "cell_type": "markdown",
      "metadata": {
        "id": "view-in-github",
        "colab_type": "text"
      },
      "source": [
        "<a href=\"https://colab.research.google.com/github/iamuramit/Python-with-Machine-Learning-Concepts/blob/main/Spam_Email_Detector_using_Scikit_learn.ipynb\" target=\"_parent\"><img src=\"https://colab.research.google.com/assets/colab-badge.svg\" alt=\"Open In Colab\"/></a>"
      ]
    },
    {
      "cell_type": "code",
      "source": [
        "import pandas as pd\n",
        "from sklearn.model_selection import train_test_split\n",
        "from sklearn.linear_model import LogisticRegression\n",
        "from sklearn.metrics import confusion_matrix, accuracy_score, precision_score, recall_score, f1_score\n",
        "import seaborn as sns\n",
        "import matplotlib.pyplot as plt"
      ],
      "metadata": {
        "id": "10e1RPXmaz5n"
      },
      "execution_count": 4,
      "outputs": []
    },
    {
      "cell_type": "markdown",
      "source": [
        "1. **Import Pandas as pd**, which is a data manipulation library allowing you to load and manipulate data in a structure format like a data frame.\n",
        "\n",
        "2. **From sklearn.model_selection import train_test_split** which splits data into training and testing sets.\n",
        "\n",
        "3. **From sklearn.linear_model import LogisticRegression** which is used for binary classification problems in our case is spam versus not spam\n",
        "\n",
        "4. **From sklearn.metrics import confusion_matrix, accuracy_score, precision_score, recall_score, F1 score.** Now this imports performance metrics to evaluate the model's performance.\n",
        "\n",
        "- The **Confustion matrix** generates a matrix that shows the performance\n",
        "of the classification\n",
        "- Then we have the **accuracy score** which calculates how ofen the model's predictions are correct.\n",
        "- Then we have the **precision score**, which measures the proportion of positive predictions that are actually correct.\n",
        "- Then we have the **recall score**, which measure the proportion of actual positives that are correctly identified.\n",
        "- And finally we have the **F1 score** which is the harmonic mean of precision and recall.\n",
        "\n",
        "5. **Import seaborn as sns**, a library for data visualization. It is built on top of matplotlib and makes it easy to create beautiful and informative statistical graphics.\n",
        "\n",
        "6. **Import matplotlib.pyplot as plt**, which imports matplotlib Pyplot module, which allows you to plot graphs and charts such as the confustion matrix that we will do."
      ],
      "metadata": {
        "id": "eiXpZdXmdBYW"
      }
    },
    {
      "cell_type": "code",
      "source": [
        "# load the dataset and split it into training and testing sets\n",
        "\n",
        "data = pd.read_csv('spam.csv')\n",
        "X = data.drop('spam', axis=1)\n",
        "y = data['spam']\n",
        "\n",
        "X_train, X_test, y_train, y_test = train_test_split(X, y, test_size=0.2, random_state=42)"
      ],
      "metadata": {
        "id": "-Z8vKMZQhWWg"
      },
      "execution_count": 5,
      "outputs": []
    },
    {
      "cell_type": "code",
      "source": [
        "# Train the Logistic Regression model to classify emails as span or not spam\n",
        "\n",
        "model = LogisticRegression()\n",
        "model.fit(X_train, y_train)\n",
        "y_pred = model.predict(X_test)\n",
        "\n",
        "print(X_test)"
      ],
      "metadata": {
        "colab": {
          "base_uri": "https://localhost:8080/"
        },
        "id": "c2lcIHsca0Ef",
        "outputId": "b51f4292-0e01-49bb-ba17-e4643d10e929"
      },
      "execution_count": 6,
      "outputs": [
        {
          "output_type": "stream",
          "name": "stdout",
          "text": [
            "      word_freq_make  word_freq_address  ...  capital_run_length_longest  capital_run_length_total\n",
            "3683            0.00                0.0  ...                           1                         3\n",
            "4412            0.71                0.0  ...                           2                        32\n",
            "2584            0.00                0.0  ...                           7                       103\n",
            "69              0.00                0.0  ...                          59                       141\n",
            "1844            0.00                0.0  ...                          12                        89\n",
            "...              ...                ...  ...                         ...                       ...\n",
            "1068            0.16                0.0  ...                          63                       621\n",
            "4351            0.00                0.0  ...                           1                         3\n",
            "3027            0.00                0.0  ...                          12                        95\n",
            "3455            0.75                0.0  ...                          13                        85\n",
            "1898            0.00                2.4  ...                          15                        56\n",
            "\n",
            "[921 rows x 57 columns]\n"
          ]
        },
        {
          "output_type": "stream",
          "name": "stderr",
          "text": [
            "/usr/local/lib/python3.10/dist-packages/sklearn/linear_model/_logistic.py:469: ConvergenceWarning: lbfgs failed to converge (status=1):\n",
            "STOP: TOTAL NO. of ITERATIONS REACHED LIMIT.\n",
            "\n",
            "Increase the number of iterations (max_iter) or scale the data as shown in:\n",
            "    https://scikit-learn.org/stable/modules/preprocessing.html\n",
            "Please also refer to the documentation for alternative solver options:\n",
            "    https://scikit-learn.org/stable/modules/linear_model.html#logistic-regression\n",
            "  n_iter_i = _check_optimize_result(\n"
          ]
        }
      ]
    },
    {
      "cell_type": "code",
      "source": [
        "# Evaluate the model using accuracy, confustion matrix, precision, recall and F1\n",
        "accuracy = accuracy_score(y_test, y_pred)\n",
        "precision = precision_score(y_test, y_pred)\n",
        "recall = recall_score(y_test, y_pred)\n",
        "f1 = f1_score(y_test, y_pred)\n",
        "\n",
        "print(f\"Accuracy: {accuracy}\")\n",
        "print(f\"Precision: {precision}\")\n",
        "print(f\"Recall: {recall}\")\n",
        "print(f\"F1-Score: {f1}\")\n"
      ],
      "metadata": {
        "colab": {
          "base_uri": "https://localhost:8080/"
        },
        "id": "DtIn99o8jV8e",
        "outputId": "c6f2817b-94dc-435f-f36c-44be584a6670"
      },
      "execution_count": 7,
      "outputs": [
        {
          "output_type": "stream",
          "name": "stdout",
          "text": [
            "Accuracy: 0.9218241042345277\n",
            "Precision: 0.9119170984455959\n",
            "Recall: 0.9025641025641026\n",
            "F1-Score: 0.9072164948453608\n"
          ]
        }
      ]
    },
    {
      "cell_type": "code",
      "source": [
        "# Visualize the confution matrix using seaborns heatmap\n",
        "cm = confusion_matrix(y_test, y_pred)\n",
        "sns.heatmap(cm, annot=True, fmt='d', cmap='Blues')\n",
        "plt.title('Confusion Matrix')\n",
        "plt.xlabel('Predicted')\n",
        "plt.ylabel('True')\n",
        "plt.show()"
      ],
      "metadata": {
        "colab": {
          "base_uri": "https://localhost:8080/",
          "height": 472
        },
        "id": "PKXCXByyjQEe",
        "outputId": "417a38c7-65c4-4b87-fa09-aa26ebb9c7ab"
      },
      "execution_count": 8,
      "outputs": [
        {
          "output_type": "display_data",
          "data": {
            "text/plain": [
              "<Figure size 640x480 with 2 Axes>"
            ],
            "image/png": "[encoded data removed]"
          },
          "metadata": {}
        }
      ]
    },
    {
      "cell_type": "code",
      "source": [],
      "metadata": {
        "id": "w1NmZAg0jQHA"
      },
      "execution_count": null,
      "outputs": []
    }
  ]
}