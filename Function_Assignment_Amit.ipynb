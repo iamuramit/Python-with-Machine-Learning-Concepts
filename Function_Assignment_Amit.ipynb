{
 "cells": [
  {
   "cell_type": "code",
   "execution_count": 8,
   "id": "78ab88ef-8be4-47b3-878a-68f762d37441",
   "metadata": {},
   "outputs": [],
   "source": [
    "def sample():\n",
    "    global x\n",
    "    x = 2\n",
    "    x = x*2\n",
    "    print(\"local x = \",x)\n",
    "    "
   ]
  },
  {
   "cell_type": "code",
   "execution_count": 9,
   "id": "9f21f0a1-5b35-4903-91d4-8d2708fe2e99",
   "metadata": {},
   "outputs": [
    {
     "name": "stdout",
     "output_type": "stream",
     "text": [
      "local x =  4\n"
     ]
    }
   ],
   "source": [
    "sample()"
   ]
  },
  {
   "cell_type": "code",
   "execution_count": 10,
   "id": "a9721a99-d1eb-492f-87df-3590f2c0604f",
   "metadata": {},
   "outputs": [
    {
     "data": {
      "text/plain": [
       "4"
      ]
     },
     "execution_count": 10,
     "metadata": {},
     "output_type": "execute_result"
    }
   ],
   "source": [
    "x"
   ]
  },
  {
   "cell_type": "code",
   "execution_count": 11,
   "id": "d6456d18-51e6-40d4-b0a7-15f51f3ca7ec",
   "metadata": {},
   "outputs": [],
   "source": [
    "var = \"global\""
   ]
  },
  {
   "cell_type": "code",
   "execution_count": 12,
   "id": "ada95ba3-421e-4c8a-a393-9346939ab6c0",
   "metadata": {},
   "outputs": [],
   "source": [
    "def sample1():\n",
    "    var = var * 2\n",
    "    print(var)"
   ]
  },
  {
   "cell_type": "code",
   "execution_count": 14,
   "id": "f8129905-1689-487d-b506-7ebeb24dccf9",
   "metadata": {},
   "outputs": [
    {
     "name": "stdout",
     "output_type": "stream",
     "text": [
      "global\n"
     ]
    }
   ],
   "source": [
    "sample1()"
   ]
  },
  {
   "cell_type": "markdown",
   "id": "cfafb980-0ee6-41df-90a6-f2d1332c159a",
   "metadata": {},
   "source": [
    "### Exercises ➞ <span class='label label-default'>Level 1</span>\n",
    "\n",
    "1. Area of a circle is calculated as follows: **area = π x r x r** and **perimeter = 2 x π x r**. Write a function that calculates **`area_of_circle`** and **`perimeter_of_circle`**. done\n",
    "2. Write a function called **`add_all_nums`** which takes arbitrary number of arguments and sums all the arguments. Check if all the list items are number types. If not do give a reasonable feedback. confusion\n",
    "3. Temperature in **°C** can be converted to **°F** using this formula: **°F = (°C x 9/5) + 32**. Write a function which converts **°C to °F**, **`convert_celsius_2_fahrenheit`**. done\n",
    "4. Write a function called **`check_season`**, it takes a month parameter and returns the season: Autumn, Winter, Spring or Summer. done\n",
    "5. Write a function called **`calculate_slope`** which return the slope of a linear equation. pending\n",
    "6. Quadratic equation is calculated as follows: **ax² + bx + c = 0**. Write a function which calculates solution set of a quadratic equation, **`solve_quadratic_eqn`**. pending\n",
    "7. Declare a function named **`print_list`**. It takes a list as a parameter and it prints out each element of the list.done\n",
    "8. Declare a function named **`reverse_list`**. It takes an array as a parameter and it returns the reverse of the array (use loops).\n",
    "\n",
    "    - ```py\n",
    "print(reverse_list([1, 2, 3, 4, 5]))\n",
    "#[5, 4, 3, 2, 1]\n",
    "print(reverse_list1([\"A\", \"B\", \"C\"]))\n",
    "#[\"C\", \"B\", \"A\"]\n",
    "    ```\n",
    "\n",
    "9. Declare a function named **`capitalize_list_items`**. It takes a list as a parameter and it returns a capitalized list of items\n",
    "10. Declare a function named **`add_item`**. It takes a list and an item parameters. It returns a list with the item added at the end.\n",
    "\n",
    "    - ```py\n",
    "food_staff = ['Potato', 'Tomato', 'Mango', 'Milk']\n",
    "print(add_item(food_staff, 'Fungi'))  #['Potato', 'Tomato', 'Mango', 'Milk', 'Fungi']\n",
    "numbers = [2, 3, 7, 9]\n",
    "print(add_item(numbers, 5))      #[2, 3, 7, 9, 5]\n",
    "    ```\n",
    "\n",
    "11. Declare a function named **`remove_item`**. It takes a list and an item parameters. It returns a list with the item removed from it.\n",
    "\n",
    "    - ```py\n",
    "food_staff = ['Potato', 'Tomato', 'Mango', 'Milk']\n",
    "print(remove_item(food_staff, 'Mango'))  # ['Potato', 'Tomato', 'Milk']\n",
    "numbers = [2, 3, 7, 9]\n",
    "print(remove_item(numbers, 3))  # [2, 7, 9]\n",
    "    ```\n",
    "\n",
    "12. Declare a function named **`sum_of_numbers`**. It takes a number parameter and it adds all the numbers in that range.\n",
    "\n",
    "    - ```py\n",
    "print(sum_of_numbers(5))  # 15\n",
    "print(sum_all_numbers(10)) # 55\n",
    "print(sum_all_numbers(100)) # 5050\n",
    "     ```\n",
    "\n",
    "13. Declare a function named **`sum_of_odds`**. It takes a number parameter and it adds all the odd numbers in that range.\n",
    "14. Declare a function named **`sum_of_even`**. It takes a number parameter and it adds all the even numbers in that - range.\n",
    "\n",
    "### Exercises ➞ <span class='label label-default'>Level 2</span>\n",
    "\n",
    "1.  Declare a function named **`evens_and_odds`**. It takes a positive integer as parameter and it counts number of evens and odds in the number.\n",
    "\n",
    "    - ```py\n",
    "    print(evens_and_odds(100))\n",
    "    #The number of odds are 50.\n",
    "    #The number of evens are 51.\n",
    "    ```\n",
    "\n",
    "2. Call your function **`factorial`**, it takes a whole number as a parameter and it return a factorial of the number\n",
    "3. Call your function **`is_empty`**, it takes a parameter and it checks if it is empty or not\n",
    "4. Write different functions which take lists. They should **`calculate_mean`**, **`calculate_median`**, **`calculate_mode`**, **`calculate_range`**, **`calculate_variance`**, **`calculate_std`** (standard deviation).\n",
    "\n",
    "### Exercises ➞ <span class='label label-default'>Level 3</span>\n",
    "\n",
    "1. Write a function called **`is_prime`**, which checks if a number is prime.\n",
    "2. Write a functions which checks if all items are unique in the list.\n",
    "3. Write a function which checks if all the items of the list are of the same data type.\n",
    "4. Write a function which check if provided variable is a valid python variable"
   ]
  },
  {
   "cell_type": "markdown",
   "id": "73dd028e",
   "metadata": {},
   "source": [
    "1. Area of a circle is calculated as follows: area = π x r x r and perimeter = 2 x π x r. Write a function that calculates area_of_circle and perimeter_of_circle."
   ]
  },
  {
   "cell_type": "code",
   "execution_count": 169,
   "id": "810624a2",
   "metadata": {},
   "outputs": [
    {
     "name": "stdout",
     "output_type": "stream",
     "text": [
      "AREA = 28.26\n"
     ]
    }
   ],
   "source": [
    "def area_of_circle(R):\n",
    "    PI=3.14\n",
    "    R=3\n",
    "    return PI*(R*R)\n",
    "print(\"AREA = %.2f\" %area_of_circle(2))"
   ]
  },
  {
   "cell_type": "code",
   "execution_count": 170,
   "id": "77f12a29",
   "metadata": {},
   "outputs": [
    {
     "data": {
      "text/plain": [
       "28.26"
      ]
     },
     "execution_count": 170,
     "metadata": {},
     "output_type": "execute_result"
    }
   ],
   "source": [
    "area_of_circle(2)"
   ]
  },
  {
   "cell_type": "code",
   "execution_count": 3,
   "id": "e1b94ef0",
   "metadata": {},
   "outputs": [],
   "source": [
    "def perimeter_of_circle(R):\n",
    "    PI=3.14\n",
    "    #R=2\n",
    "    return 2*PI*R\n",
    "   "
   ]
  },
  {
   "cell_type": "code",
   "execution_count": 4,
   "id": "ddab3ff5",
   "metadata": {},
   "outputs": [
    {
     "data": {
      "text/plain": [
       "12.56"
      ]
     },
     "execution_count": 4,
     "metadata": {},
     "output_type": "execute_result"
    }
   ],
   "source": [
    "perimeter_of_circle(2)"
   ]
  },
  {
   "cell_type": "markdown",
   "id": "b47f92ff",
   "metadata": {},
   "source": [
    "2. Write a function called add_all_nums which takes arbitrary number of arguments and sums all the arguments. Check if all the list items are number types. If not do give a reasonable feedback."
   ]
  },
  {
   "cell_type": "code",
   "execution_count": 160,
   "id": "2c28cdad",
   "metadata": {},
   "outputs": [],
   "source": [
    "def add_all_nums(a,b,*args):\n",
    "    '''expects elements and returns sum of all elements'''\n",
    "    if type(a) != int:\n",
    "        print(f\"expected integer value but found {type(a)}\")\n",
    "        return None\n",
    "    if type(b) != int:\n",
    "        print(f\"expected integer value but found {type(b)}\")\n",
    "        return None\n",
    "    for each_elem in args:\n",
    "        if type(each_elem) != int:\n",
    "            print(f\"expected integer value but found {type(each_elem)}\")\n",
    "            return None\n",
    "    sum_ = a+b\n",
    "    for each_elem in args:\n",
    "        # print(sum_)\n",
    "        sum_ = sum_ +each_elem\n",
    "    return sum_"
   ]
  },
  {
   "cell_type": "code",
   "execution_count": 166,
   "id": "8e3edbe1",
   "metadata": {},
   "outputs": [
    {
     "data": {
      "text/plain": [
       "33"
      ]
     },
     "execution_count": 166,
     "metadata": {},
     "output_type": "execute_result"
    }
   ],
   "source": [
    "add_all_nums(1,2,3,4,3,5,4,5,6)"
   ]
  },
  {
   "cell_type": "markdown",
   "id": "78ba1f47",
   "metadata": {},
   "source": [
    "3. Temperature in °C can be converted to °F using this formula: °F = (°C x 9/5) + 32. Write a function which converts °C to °F, convert_celsius_2_fahrenheit."
   ]
  },
  {
   "cell_type": "code",
   "execution_count": 12,
   "id": "948b619e",
   "metadata": {},
   "outputs": [],
   "source": [
    "def convert_celsius_2_fahrenheit(c):\n",
    "    f=(c*(9/5))+32\n",
    "    return f\n",
    "    "
   ]
  },
  {
   "cell_type": "code",
   "execution_count": 13,
   "id": "f82a2ddf",
   "metadata": {},
   "outputs": [
    {
     "data": {
      "text/plain": [
       "99.5"
      ]
     },
     "execution_count": 13,
     "metadata": {},
     "output_type": "execute_result"
    }
   ],
   "source": [
    "convert_celsius_2_fahrenheit(37.5)"
   ]
  },
  {
   "cell_type": "markdown",
   "id": "24d5c2b4",
   "metadata": {},
   "source": [
    "4. Write a function called check_season, it takes a month parameter and returns the season: Autumn, Winter, Spring or Summer."
   ]
  },
  {
   "cell_type": "code",
   "execution_count": 8,
   "id": "202821bb",
   "metadata": {},
   "outputs": [],
   "source": [
    "def check_season(m):\n",
    "    list1 = [[12 , 1 , 2], [3 , 4 , 5],\n",
    "             [6 , 7 , 8], [9 , 10 , 11]]\n",
    "    if m in list1[0] :\n",
    "        return ( \"WINTER\" )\n",
    "        #print ( \"WINTER\" )\n",
    "    elif m in list1[1] :\n",
    "        print ( \"SPRING\" )\n",
    "    elif m in list1[2] :\n",
    "        print ( \"SUMMER\" )\n",
    "    elif m in list1[3] :\n",
    "        print ( \"AUTUMN\" )\n",
    "    else :\n",
    "        print ( \"Invalid Month\" )"
   ]
  },
  {
   "cell_type": "code",
   "execution_count": 9,
   "id": "317d446a",
   "metadata": {},
   "outputs": [
    {
     "data": {
      "text/plain": [
       "'WINTER'"
      ]
     },
     "execution_count": 9,
     "metadata": {},
     "output_type": "execute_result"
    }
   ],
   "source": [
    "check_season(1)"
   ]
  },
  {
   "cell_type": "markdown",
   "id": "fb251a3d",
   "metadata": {},
   "source": [
    "5. Write a function called calculate_slope which return the slope of a linear equation."
   ]
  },
  {
   "cell_type": "code",
   "execution_count": 149,
   "id": "808a3b34",
   "metadata": {},
   "outputs": [],
   "source": [
    "def calculate_slope(cord1, cord2):\n",
    "    return (cord2[1]-cord1[1] )/ (cord2[0]-cord1[0])"
   ]
  },
  {
   "cell_type": "code",
   "execution_count": 150,
   "id": "74f0e244",
   "metadata": {},
   "outputs": [
    {
     "data": {
      "text/plain": [
       "1.0"
      ]
     },
     "execution_count": 150,
     "metadata": {},
     "output_type": "execute_result"
    }
   ],
   "source": [
    "calculate_slope((2,2),(4,4))"
   ]
  },
  {
   "cell_type": "markdown",
   "id": "c1de04f1",
   "metadata": {},
   "source": [
    "6. Quadratic equation is calculated as follows: ax² + bx + c = 0. Write a function which calculates solution set of a quadratic equation, solve_quadratic_eqn."
   ]
  },
  {
   "cell_type": "code",
   "execution_count": 172,
   "id": "9a83910f",
   "metadata": {},
   "outputs": [],
   "source": [
    "import math\n",
    "\n",
    "def calc_quad(a,b,c):\n",
    "    \n",
    "    return round((-b + math.sqrt(b**2 -4*a*c)/2*a),2), (-b - math.sqrt(b**2 -4*a*c)/2*a)"
   ]
  },
  {
   "cell_type": "code",
   "execution_count": 173,
   "id": "36dbc97a",
   "metadata": {},
   "outputs": [
    {
     "data": {
      "text/plain": [
       "(-3.96, -10.04138126514911)"
      ]
     },
     "execution_count": 173,
     "metadata": {},
     "output_type": "execute_result"
    }
   ],
   "source": [
    "calc_quad(1,7,3)"
   ]
  },
  {
   "cell_type": "markdown",
   "id": "3ac7ad42",
   "metadata": {},
   "source": [
    "7. Declare a function named print_list. It takes a list as a parameter and it prints out each element of the list."
   ]
  },
  {
   "cell_type": "code",
   "execution_count": 18,
   "id": "6d55491d",
   "metadata": {},
   "outputs": [],
   "source": [
    "def print_list(l):\n",
    "    #l1=[]\n",
    "    for element in l:\n",
    "        #l1.append(i)\n",
    "        print(element)\n",
    "    #return l1"
   ]
  },
  {
   "cell_type": "code",
   "execution_count": 19,
   "id": "0ee787b4",
   "metadata": {},
   "outputs": [
    {
     "name": "stdout",
     "output_type": "stream",
     "text": [
      "a\n",
      "b\n",
      "c\n"
     ]
    }
   ],
   "source": [
    "print_list(['a','b','c'])"
   ]
  },
  {
   "cell_type": "code",
   "execution_count": 16,
   "id": "271d0fa9",
   "metadata": {},
   "outputs": [],
   "source": [
    "def print_list1(l):\n",
    "    l1=[]\n",
    "    for ele in l:\n",
    "        l1.append(ele)\n",
    "    return l1\n",
    "        "
   ]
  },
  {
   "cell_type": "code",
   "execution_count": 17,
   "id": "b82fdb48",
   "metadata": {},
   "outputs": [
    {
     "data": {
      "text/plain": [
       "[1, 2, 3, 4, 5]"
      ]
     },
     "execution_count": 17,
     "metadata": {},
     "output_type": "execute_result"
    }
   ],
   "source": [
    "print_list1([1,2,3,4,5])"
   ]
  },
  {
   "cell_type": "markdown",
   "id": "a5413d21",
   "metadata": {},
   "source": [
    "8. Declare a function named reverse_list. It takes an array as a parameter and it returns the reverse of the array (use loops).\n",
    "        print(reverse_list([1, 2, 3, 4, 5]))\n",
    "        #[5, 4, 3, 2, 1]\n",
    "        print(reverse_list1([\"A\", \"B\", \"C\"]))\n",
    "        #[\"C\", \"B\", \"A\"]"
   ]
  },
  {
   "cell_type": "code",
   "execution_count": 86,
   "id": "13477437",
   "metadata": {},
   "outputs": [],
   "source": [
    "def reverse_list(l):\n",
    "    l1=[]\n",
    "    for element in l:\n",
    "       # l1.insert()\n",
    "        #l1.insert(0,element)\n",
    "        l1=l[::-1]\n",
    "        #l1.append(element)\n",
    "        #l1.reverse()\n",
    "    return l1"
   ]
  },
  {
   "cell_type": "code",
   "execution_count": 87,
   "id": "db4115b7",
   "metadata": {},
   "outputs": [
    {
     "data": {
      "text/plain": [
       "['C', 'B', 'A']"
      ]
     },
     "execution_count": 87,
     "metadata": {},
     "output_type": "execute_result"
    }
   ],
   "source": [
    "reverse_list([\"A\",\"B\",\"C\"])"
   ]
  },
  {
   "cell_type": "code",
   "execution_count": 88,
   "id": "7e5b05f4",
   "metadata": {},
   "outputs": [
    {
     "data": {
      "text/plain": [
       "[5, 4, 3, 2, 1]"
      ]
     },
     "execution_count": 88,
     "metadata": {},
     "output_type": "execute_result"
    }
   ],
   "source": [
    "reverse_list([1,2,3,4,5])"
   ]
  },
  {
   "cell_type": "markdown",
   "id": "48757373",
   "metadata": {},
   "source": [
    "9. Declare a function named capitalize_list_items. It takes a list as a parameter and it returns a capitalized list of items"
   ]
  },
  {
   "cell_type": "code",
   "execution_count": 92,
   "id": "a7882158",
   "metadata": {},
   "outputs": [],
   "source": [
    "def capitalize_list_items(l):\n",
    "    l1=[]\n",
    "    for element in l:\n",
    "        l1.append(element.capitalize())\n",
    "    return l1"
   ]
  },
  {
   "cell_type": "code",
   "execution_count": 94,
   "id": "2ee9a1f0",
   "metadata": {},
   "outputs": [
    {
     "data": {
      "text/plain": [
       "['Abc', 'Xyz', 'Amit']"
      ]
     },
     "execution_count": 94,
     "metadata": {},
     "output_type": "execute_result"
    }
   ],
   "source": [
    "capitalize_list_items([\"abc\",\"xYZ\",\"aMiT\"])"
   ]
  },
  {
   "cell_type": "markdown",
   "id": "d3dcc095",
   "metadata": {},
   "source": [
    "10. Declare a function named add_item. It takes a list and an item parameters. It returns a list with the item added at the end.\n",
    "\n",
    "    food_staff = ['Potato', 'Tomato', 'Mango', 'Milk']\n",
    "    print(add_item(food_staff, 'Fungi'))  #['Potato', 'Tomato', 'Mango', 'Milk', 'Fungi']\n",
    "    numbers = [2, 3, 7, 9]\n",
    "    print(add_item(numbers, 5))      #[2, 3, 7, 9, 5]"
   ]
  },
  {
   "cell_type": "code",
   "execution_count": 21,
   "id": "92b57e9d",
   "metadata": {},
   "outputs": [
    {
     "data": {
      "text/plain": [
       "['Potato', 'Tomato', 'Mango', 'Milk', 'chips']"
      ]
     },
     "execution_count": 21,
     "metadata": {},
     "output_type": "execute_result"
    }
   ],
   "source": [
    "def add_items(list,items):\n",
    "    l1=list\n",
    "    l1.append(items)\n",
    "    #print(l1)\n",
    "    return l1\n",
    "    \n",
    "list=['Potato', 'Tomato', 'Mango', 'Milk']\n",
    "add_items(list,'chips')"
   ]
  },
  {
   "cell_type": "code",
   "execution_count": 22,
   "id": "230b86e2",
   "metadata": {},
   "outputs": [
    {
     "data": {
      "text/plain": [
       "['Potato', 'Tomato', 'Mango', 'Milk', 'chips']"
      ]
     },
     "execution_count": 22,
     "metadata": {},
     "output_type": "execute_result"
    }
   ],
   "source": [
    "add_items(['Potato', 'Tomato', 'Mango', 'Milk'],\"chips\")"
   ]
  },
  {
   "cell_type": "code",
   "execution_count": 23,
   "id": "8e0f27c8",
   "metadata": {},
   "outputs": [
    {
     "data": {
      "text/plain": [
       "[1, 2, 3, 4, 5, 6]"
      ]
     },
     "execution_count": 23,
     "metadata": {},
     "output_type": "execute_result"
    }
   ],
   "source": [
    "add_items([1,2,3,4,5],6)"
   ]
  },
  {
   "cell_type": "markdown",
   "id": "67b0c6ec",
   "metadata": {},
   "source": [
    "12. Declare a function named sum_of_numbers. It takes a number parameter and it adds all the numbers in that range.\n",
    "\n",
    "print(sum_of_numbers(5)  # 15\n",
    "print(sum_all_numbers(10)) # 55\n",
    "print(sum_all_numbers(100)) # 5050"
   ]
  },
  {
   "cell_type": "code",
   "execution_count": 25,
   "id": "b3ea6f6a",
   "metadata": {},
   "outputs": [],
   "source": [
    "def sum_of_numbers(num):\n",
    "    total = sum(range(1,num+1))\n",
    "    return total"
   ]
  },
  {
   "cell_type": "code",
   "execution_count": 26,
   "id": "ed75bd1c",
   "metadata": {},
   "outputs": [
    {
     "data": {
      "text/plain": [
       "6"
      ]
     },
     "execution_count": 26,
     "metadata": {},
     "output_type": "execute_result"
    }
   ],
   "source": [
    "sum_of_numbers(3)"
   ]
  },
  {
   "cell_type": "markdown",
   "id": "c1de136a",
   "metadata": {},
   "source": [
    "13. Declare a function named sum_of_odds. It takes a number parameter and it adds all the odd numbers in that range."
   ]
  },
  {
   "cell_type": "code",
   "execution_count": 141,
   "id": "db7a7c9e",
   "metadata": {},
   "outputs": [],
   "source": [
    "def sum_of_odd(num):\n",
    "    num >=0\n",
    "    total=0\n",
    "    for num in range(1,num+1):\n",
    "        #print(num)\n",
    "        if(num % 2 != 0):\n",
    "            total=total+num\n",
    "    return total"
   ]
  },
  {
   "cell_type": "code",
   "execution_count": 142,
   "id": "9afc05d2",
   "metadata": {},
   "outputs": [
    {
     "data": {
      "text/plain": [
       "4"
      ]
     },
     "execution_count": 142,
     "metadata": {},
     "output_type": "execute_result"
    }
   ],
   "source": [
    "sum_of_odd(3)"
   ]
  },
  {
   "cell_type": "markdown",
   "id": "27240ae4",
   "metadata": {},
   "source": [
    "14. Declare a function named sum_of_even. It takes a number parameter and it adds all the even numbers in that - range."
   ]
  },
  {
   "cell_type": "code",
   "execution_count": 147,
   "id": "57d5c63d",
   "metadata": {},
   "outputs": [],
   "source": [
    "def sum_of_even(num):\n",
    "    num >=0\n",
    "    total=0\n",
    "    for num in range(1,num+1):\n",
    "        if(num % 2 == 0):\n",
    "            total=total+num\n",
    "    return total"
   ]
  },
  {
   "cell_type": "code",
   "execution_count": 148,
   "id": "5195273a",
   "metadata": {},
   "outputs": [
    {
     "data": {
      "text/plain": [
       "6"
      ]
     },
     "execution_count": 148,
     "metadata": {},
     "output_type": "execute_result"
    }
   ],
   "source": [
    "sum_of_even(5)"
   ]
  },
  {
   "cell_type": "markdown",
   "id": "9d249c1d",
   "metadata": {},
   "source": [
    "Level-2\n",
    "1. Declare a function named evens_and_odds. It takes a positive integer as parameter and it counts number of evens and odds in the number.print(evens_and_odds(100))"
   ]
  },
  {
   "cell_type": "code",
   "execution_count": 27,
   "id": "59647dec",
   "metadata": {},
   "outputs": [],
   "source": [
    "def even_and_odd(n):\n",
    "    count_odd = 0\n",
    "    count_even = 0\n",
    "    for x in range(1,n+1):\n",
    "            if not x % 2:    \n",
    "                count_even+=1 # count_even=count_even+x\n",
    "                #print('e:',x) \n",
    "            else:\n",
    "                count_odd+=1\n",
    "                #print('o',x)\n",
    "    #print(\"count of odd num is:\",count_odd)\n",
    "    #print(\"count of even num is:\",count_even)\n",
    "    return \"count of odd:\",count_odd, \"count of even:\",count_even"
   ]
  },
  {
   "cell_type": "code",
   "execution_count": 28,
   "id": "2271737b",
   "metadata": {},
   "outputs": [
    {
     "data": {
      "text/plain": [
       "('count of odd:', 50, 'count of even:', 50)"
      ]
     },
     "execution_count": 28,
     "metadata": {},
     "output_type": "execute_result"
    }
   ],
   "source": [
    "even_and_odd(100)"
   ]
  },
  {
   "cell_type": "markdown",
   "id": "0118c6ba",
   "metadata": {},
   "source": [
    "2. Call your function factorial, it takes a whole number as a parameter and it return a factorial of the number"
   ]
  },
  {
   "cell_type": "code",
   "execution_count": 35,
   "id": "736a1e5d",
   "metadata": {},
   "outputs": [],
   "source": [
    "def factorial(n):\n",
    "    fact=1\n",
    "    for i in range(1,n+1):\n",
    "        fact = fact * i\n",
    "    return fact"
   ]
  },
  {
   "cell_type": "code",
   "execution_count": 36,
   "id": "3bb77394",
   "metadata": {},
   "outputs": [
    {
     "data": {
      "text/plain": [
       "120"
      ]
     },
     "execution_count": 36,
     "metadata": {},
     "output_type": "execute_result"
    }
   ],
   "source": [
    "factorial(5)"
   ]
  },
  {
   "cell_type": "markdown",
   "id": "7436c0d9",
   "metadata": {},
   "source": [
    "3. Call your function is_empty, it takes a parameter and it checks if it is empty or not"
   ]
  },
  {
   "cell_type": "code",
   "execution_count": 54,
   "id": "fff37b85",
   "metadata": {},
   "outputs": [],
   "source": [
    "def is_empty(l):\n",
    "    #l=[]\n",
    "    if len(l):\n",
    "#         l.append(n)\n",
    "#         return l\n",
    "        print(\"list is not empty\")\n",
    "    else:\n",
    "        print(\"list is empty\")\n",
    "    "
   ]
  },
  {
   "cell_type": "code",
   "execution_count": 55,
   "id": "49244394",
   "metadata": {},
   "outputs": [
    {
     "name": "stdout",
     "output_type": "stream",
     "text": [
      "list is not empty\n"
     ]
    }
   ],
   "source": [
    "is_empty([1,2,3])"
   ]
  },
  {
   "cell_type": "code",
   "execution_count": 57,
   "id": "bb6e2798",
   "metadata": {},
   "outputs": [
    {
     "name": "stdout",
     "output_type": "stream",
     "text": [
      "list is empty\n"
     ]
    }
   ],
   "source": [
    "is_empty([])"
   ]
  },
  {
   "cell_type": "code",
   "execution_count": 70,
   "id": "c77f10ee",
   "metadata": {},
   "outputs": [],
   "source": [
    "def is_empty1(n):\n",
    "    var=n\n",
    "#     if not var:\n",
    "#         print(\"empty\")\n",
    "#     else:\n",
    "#         print(\"not empty\")\n",
    "    if bool(var):\n",
    "        print(\"not empty\")\n",
    "    else:\n",
    "        print(\"empty\")"
   ]
  },
  {
   "cell_type": "code",
   "execution_count": 71,
   "id": "b4f755e9",
   "metadata": {},
   "outputs": [
    {
     "name": "stdout",
     "output_type": "stream",
     "text": [
      "not empty\n"
     ]
    }
   ],
   "source": [
    "is_empty1(2)"
   ]
  },
  {
   "cell_type": "code",
   "execution_count": 75,
   "id": "0ab9160b",
   "metadata": {},
   "outputs": [
    {
     "name": "stdout",
     "output_type": "stream",
     "text": [
      "empty\n"
     ]
    }
   ],
   "source": [
    "is_empty1(None)"
   ]
  },
  {
   "cell_type": "markdown",
   "id": "b11ff6a6",
   "metadata": {},
   "source": [
    "4. Write different functions which take lists. They should calculate_mean, calculate_median, calculate_mode, calculate_range, calculate_variance, calculate_std (standard deviation)."
   ]
  },
  {
   "cell_type": "code",
   "execution_count": 127,
   "id": "d91acbae",
   "metadata": {},
   "outputs": [],
   "source": [
    "def operation(l):\n",
    "    list=l\n",
    "    calculate_mean = 0\n",
    "    for i in l:\n",
    "        calculate_mean =  list[((calculate_mean+i)/len(l))-1]\n",
    "        #print(list[2])\n",
    "    return \"mean:\", calculate_mean\n",
    "\n",
    "#print(\"calculate mean:\", l[(calculate_mean-1)]) \n",
    "    "
   ]
  },
  {
   "cell_type": "code",
   "execution_count": 125,
   "id": "91faf2ab",
   "metadata": {},
   "outputs": [
    {
     "ename": "TypeError",
     "evalue": "list indices must be integers or slices, not float",
     "output_type": "error",
     "traceback": [
      "\u001b[1;31m---------------------------------------------------------------------------\u001b[0m",
      "\u001b[1;31mTypeError\u001b[0m                                 Traceback (most recent call last)",
      "\u001b[1;32m~\\AppData\\Local\\Temp/ipykernel_33684/3536251654.py\u001b[0m in \u001b[0;36m<module>\u001b[1;34m\u001b[0m\n\u001b[1;32m----> 1\u001b[1;33m \u001b[0moperation\u001b[0m\u001b[1;33m(\u001b[0m\u001b[1;33m[\u001b[0m\u001b[1;36m1\u001b[0m\u001b[1;33m,\u001b[0m\u001b[1;36m5\u001b[0m\u001b[1;33m,\u001b[0m\u001b[1;36m6\u001b[0m\u001b[1;33m,\u001b[0m\u001b[1;36m7\u001b[0m\u001b[1;33m,\u001b[0m\u001b[1;36m8\u001b[0m\u001b[1;33m]\u001b[0m\u001b[1;33m)\u001b[0m\u001b[1;33m\u001b[0m\u001b[1;33m\u001b[0m\u001b[0m\n\u001b[0m",
      "\u001b[1;32m~\\AppData\\Local\\Temp/ipykernel_33684/3509683136.py\u001b[0m in \u001b[0;36moperation\u001b[1;34m(l)\u001b[0m\n\u001b[0;32m      3\u001b[0m     \u001b[0mcalculate_mean\u001b[0m \u001b[1;33m=\u001b[0m \u001b[1;36m0\u001b[0m\u001b[1;33m\u001b[0m\u001b[1;33m\u001b[0m\u001b[0m\n\u001b[0;32m      4\u001b[0m     \u001b[1;32mfor\u001b[0m \u001b[0mi\u001b[0m \u001b[1;32min\u001b[0m \u001b[0ml\u001b[0m\u001b[1;33m:\u001b[0m\u001b[1;33m\u001b[0m\u001b[1;33m\u001b[0m\u001b[0m\n\u001b[1;32m----> 5\u001b[1;33m         \u001b[0mcalculate_mean\u001b[0m \u001b[1;33m=\u001b[0m  \u001b[0mlist\u001b[0m\u001b[1;33m[\u001b[0m\u001b[0mround\u001b[0m\u001b[1;33m(\u001b[0m\u001b[0mcalculate_mean\u001b[0m\u001b[1;33m+\u001b[0m\u001b[0mi\u001b[0m\u001b[1;33m/\u001b[0m\u001b[0mlen\u001b[0m\u001b[1;33m(\u001b[0m\u001b[0ml\u001b[0m\u001b[1;33m)\u001b[0m\u001b[1;33m,\u001b[0m\u001b[1;36m3\u001b[0m\u001b[1;33m)\u001b[0m\u001b[1;33m-\u001b[0m\u001b[1;36m1\u001b[0m\u001b[1;33m]\u001b[0m\u001b[1;33m\u001b[0m\u001b[1;33m\u001b[0m\u001b[0m\n\u001b[0m\u001b[0;32m      6\u001b[0m         \u001b[1;31m#print(list[2])\u001b[0m\u001b[1;33m\u001b[0m\u001b[1;33m\u001b[0m\u001b[0m\n\u001b[0;32m      7\u001b[0m     \u001b[1;32mreturn\u001b[0m \u001b[1;34m\"mean:\"\u001b[0m\u001b[1;33m,\u001b[0m \u001b[0mcalculate_mean\u001b[0m\u001b[1;33m\u001b[0m\u001b[1;33m\u001b[0m\u001b[0m\n",
      "\u001b[1;31mTypeError\u001b[0m: list indices must be integers or slices, not float"
     ]
    }
   ],
   "source": [
    "operation([1,5,6,7,8])"
   ]
  },
  {
   "cell_type": "markdown",
   "id": "9a74fcc9",
   "metadata": {},
   "source": [
    "Level: 3\n",
    "1. Write a function called is_prime, which checks if a number is prime."
   ]
  },
  {
   "cell_type": "code",
   "execution_count": 128,
   "id": "2648b512",
   "metadata": {},
   "outputs": [],
   "source": [
    "def is_prime(n):\n",
    "  for i in range(2,n):\n",
    "    if (n%i) == 0:\n",
    "      return False\n",
    "  return True"
   ]
  },
  {
   "cell_type": "code",
   "execution_count": 181,
   "id": "01a049d6",
   "metadata": {},
   "outputs": [
    {
     "data": {
      "text/plain": [
       "True"
      ]
     },
     "execution_count": 181,
     "metadata": {},
     "output_type": "execute_result"
    }
   ],
   "source": [
    "is_prime(17)"
   ]
  },
  {
   "cell_type": "markdown",
   "id": "959c20e1",
   "metadata": {},
   "source": [
    "2. Write a functions which checks if all items are unique in the list."
   ]
  },
  {
   "cell_type": "code",
   "execution_count": 138,
   "id": "0a201b4a",
   "metadata": {},
   "outputs": [],
   "source": [
    "def unique(l):\n",
    "    if(len(set(l)) == len(l)):\n",
    "       print(\"All elements are unique.\")\n",
    "    else:\n",
    "       print(\"All elements are not unique.\")"
   ]
  },
  {
   "cell_type": "code",
   "execution_count": 140,
   "id": "fd559414",
   "metadata": {},
   "outputs": [
    {
     "name": "stdout",
     "output_type": "stream",
     "text": [
      "All elements are not unique.\n"
     ]
    }
   ],
   "source": [
    "unique([1,2,3,3])"
   ]
  },
  {
   "cell_type": "markdown",
   "id": "cc9de7bd",
   "metadata": {},
   "source": [
    "3. Write a function which checks if all the items of the list are of the same data type."
   ]
  },
  {
   "cell_type": "code",
   "execution_count": 150,
   "id": "e9b20d81",
   "metadata": {},
   "outputs": [],
   "source": [
    "def same_dt(l):\n",
    "    res = True\n",
    "    for ele in l:\n",
    "        if not isinstance(ele, type(l[0])):\n",
    "            res = False\n",
    "            break\n",
    "    print(\"All elements have same type : \", str(res))"
   ]
  },
  {
   "cell_type": "code",
   "execution_count": 151,
   "id": "72708159",
   "metadata": {},
   "outputs": [
    {
     "name": "stdout",
     "output_type": "stream",
     "text": [
      "All elements have same type :  False\n"
     ]
    }
   ],
   "source": [
    "same_dt([1,2,'c'])"
   ]
  },
  {
   "cell_type": "markdown",
   "id": "c2cf6521",
   "metadata": {},
   "source": [
    "4. Write a function which check if provided variable is a valid python variable"
   ]
  },
  {
   "cell_type": "code",
   "execution_count": 182,
   "id": "0d1816ca",
   "metadata": {},
   "outputs": [],
   "source": [
    "def valid_var(s):\n",
    "    if s.isidentifier():\n",
    "        print(\"valid variable\")\n",
    "    else:\n",
    "        print(\"invalid variable\")"
   ]
  },
  {
   "cell_type": "code",
   "execution_count": 183,
   "id": "d8fb20cd",
   "metadata": {},
   "outputs": [
    {
     "name": "stdout",
     "output_type": "stream",
     "text": [
      "invalid variable\n"
     ]
    }
   ],
   "source": [
    "valid_var(\"%x\")"
   ]
  },
  {
   "cell_type": "code",
   "execution_count": null,
   "id": "9055cab3",
   "metadata": {},
   "outputs": [],
   "source": []
  }
 ],
 "metadata": {
  "kernelspec": {
   "display_name": "Python 3 (ipykernel)",
   "language": "python",
   "name": "python3"
  },
  "language_info": {
   "codemirror_mode": {
    "name": "ipython",
    "version": 3
   },
   "file_extension": ".py",
   "mimetype": "text/x-python",
   "name": "python",
   "nbconvert_exporter": "python",
   "pygments_lexer": "ipython3",
   "version": "3.9.7"
  }
 },
 "nbformat": 4,
 "nbformat_minor": 5
}
